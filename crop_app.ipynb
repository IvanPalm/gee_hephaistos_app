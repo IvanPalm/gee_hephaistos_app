{
 "cells": [
  {
   "cell_type": "code",
   "execution_count": 19,
   "id": "06a5c796-0eb5-4bba-af0d-8a6b07347179",
   "metadata": {},
   "outputs": [],
   "source": [
    "import ee\n",
    "import geemap\n",
    "from ipywidgets import widgets"
   ]
  },
  {
   "cell_type": "code",
   "execution_count": 20,
   "id": "7b0f3d59-5af7-46a2-9a08-f810881d35d9",
   "metadata": {},
   "outputs": [
    {
     "data": {
      "application/vnd.jupyter.widget-view+json": {
       "model_id": "62549523daf645da8635acc0ea7624b7",
       "version_major": 2,
       "version_minor": 0
      },
      "text/plain": [
       "Map(center=[45, 10], controls=(WidgetControl(options=['position', 'transparent_bg'], widget=HBox(children=(Tog…"
      ]
     },
     "metadata": {},
     "output_type": "display_data"
    }
   ],
   "source": [
    "map0 = geemap.Map(center=[45, 10], zoom=4)\n",
    "map0"
   ]
  },
  {
   "cell_type": "code",
   "execution_count": 21,
   "id": "3ac052dc-23dc-42fe-8967-3036503abf99",
   "metadata": {},
   "outputs": [
    {
     "ename": "AttributeError",
     "evalue": "'NoneType' object has no attribute 'geometry'",
     "output_type": "error",
     "traceback": [
      "\u001b[0;31m---------------------------------------------------------------------------\u001b[0m",
      "\u001b[0;31mAttributeError\u001b[0m                            Traceback (most recent call last)",
      "\u001b[0;32m<ipython-input-21-7bb8c1a4b6e6>\u001b[0m in \u001b[0;36m<module>\u001b[0;34m\u001b[0m\n\u001b[1;32m      1\u001b[0m \u001b[0mfeat\u001b[0m \u001b[0;34m=\u001b[0m \u001b[0mmap0\u001b[0m\u001b[0;34m.\u001b[0m\u001b[0mdraw_last_feature\u001b[0m\u001b[0;34m\u001b[0m\u001b[0;34m\u001b[0m\u001b[0m\n\u001b[0;32m----> 2\u001b[0;31m \u001b[0mroi\u001b[0m \u001b[0;34m=\u001b[0m \u001b[0mfeat\u001b[0m\u001b[0;34m.\u001b[0m\u001b[0mgeometry\u001b[0m\u001b[0;34m(\u001b[0m\u001b[0;34m)\u001b[0m\u001b[0;34m\u001b[0m\u001b[0;34m\u001b[0m\u001b[0m\n\u001b[0m\u001b[1;32m      3\u001b[0m \u001b[0;31m# roi.getInfo()\u001b[0m\u001b[0;34m\u001b[0m\u001b[0;34m\u001b[0m\u001b[0;34m\u001b[0m\u001b[0m\n",
      "\u001b[0;31mAttributeError\u001b[0m: 'NoneType' object has no attribute 'geometry'"
     ]
    }
   ],
   "source": [
    "feat = map0.draw_last_feature\n",
    "roi = feat.geometry()\n",
    "# roi.getInfo()"
   ]
  },
  {
   "cell_type": "code",
   "execution_count": 22,
   "id": "1a2ac33b-cf8a-4bc7-9193-41536c99240b",
   "metadata": {},
   "outputs": [],
   "source": [
    "# define cloud mask for Sentinel 2\n",
    "def maskS2clouds(image):\n",
    "  qa = image.select('QA60')\n",
    "  cloudBitMask = 1 << 10\n",
    "  cirrusBitMask = 1 << 11\n",
    "  mask = qa.bitwiseAnd(cloudBitMask).eq(0).And(\n",
    "             qa.bitwiseAnd(cirrusBitMask).eq(0))\n",
    "  return image.updateMask(mask).divide(10000)"
   ]
  },
  {
   "cell_type": "code",
   "execution_count": 23,
   "id": "3621525e-0361-4642-b06e-54d308f32f47",
   "metadata": {},
   "outputs": [],
   "source": [
    "# Load Sentinel-2 TOA reflectance data.\n",
    "s2coll = ee.ImageCollection('COPERNICUS/S2') \\\n",
    "    .filterDate('2016-01-01', '2016-12-31') \\\n",
    "    .filter(ee.Filter.lt('CLOUDY_PIXEL_PERCENTAGE', 5)) \\\n",
    "    .map(maskS2clouds) \\\n",
    "    .filterBounds(roi) \\\n",
    "    .sort('CLOUDY_PIXEL_PERCENTAGE')"
   ]
  },
  {
   "cell_type": "code",
   "execution_count": 24,
   "id": "f11c56f0-a77e-4f01-a2ba-834efca40e10",
   "metadata": {},
   "outputs": [],
   "source": [
    "img = ee.Image(s2coll.toList(s2coll.size()).get(0))\n",
    "# img.getInfo()"
   ]
  },
  {
   "cell_type": "code",
   "execution_count": 30,
   "id": "c7bb86fa-fb25-4c1f-8a56-4e4aef967255",
   "metadata": {},
   "outputs": [],
   "source": [
    "# Front-end\n",
    "dateBox = widgets.DatePicker(description='', disabled=False)\n",
    "map_widget = widgets.Output()\n",
    "\n",
    "# labels \n",
    "step1 = widgets.Label('Step 1: Select the date')\n",
    "step2 = widgets.Label('Step 2: Select Region from the map')\n",
    "step3 = widgets.Label('Step 3: Load model')\n",
    "step4 = widgets.Label('Step 4: Estimate yield')\n",
    "estimate_yield_debug = widgets.Label('')\n",
    "\n",
    "# buttons\n",
    "getROI = widgets.Button(description='Ok')\n",
    "estimate_yield_Btn = widgets.Button(description='Estimate yield')\n",
    "loadModel_Btn = widgets.Button(description='Load model')\n",
    "\n",
    "# progress bar\n",
    "progressBar = widgets.IntProgress(\n",
    "    value=0,\n",
    "    min=0,\n",
    "    max=19,\n",
    "    step=1,\n",
    "    description='',\n",
    "    bar_style='info', \n",
    "    orientation='horizontal'\n",
    ")\n",
    "\n",
    "# text Area\n",
    "estimate_yield_Out = widgets.Textarea(\n",
    "    value='',\n",
    "    placeholder='',\n",
    "    description='',\n",
    "    disabled=True,\n",
    "    layout={'height': '300px'}\n",
    ")\n",
    "\n",
    "# display prediction image (Matplotlib plot)\n",
    "estimate_yield_plot = widgets.Output()"
   ]
  },
  {
   "cell_type": "code",
   "execution_count": 31,
   "id": "afb1f4b8-5245-40ad-8ca9-bad9b2ee4e30",
   "metadata": {},
   "outputs": [
    {
     "ename": "NameError",
     "evalue": "name 'bands' is not defined",
     "output_type": "error",
     "traceback": [
      "\u001b[0;31m---------------------------------------------------------------------------\u001b[0m",
      "\u001b[0;31mNameError\u001b[0m                                 Traceback (most recent call last)",
      "\u001b[0;32m<ipython-input-31-908b0a75726f>\u001b[0m in \u001b[0;36m<module>\u001b[0;34m\u001b[0m\n\u001b[0;32m----> 1\u001b[0;31m \u001b[0;32mfor\u001b[0m \u001b[0mband\u001b[0m \u001b[0;32min\u001b[0m \u001b[0mbands\u001b[0m\u001b[0;34m:\u001b[0m\u001b[0;34m\u001b[0m\u001b[0;34m\u001b[0m\u001b[0m\n\u001b[0m\u001b[1;32m      2\u001b[0m     \u001b[0mestimate_yield_debug\u001b[0m\u001b[0;34m.\u001b[0m\u001b[0mvalue\u001b[0m \u001b[0;34m=\u001b[0m \u001b[0;34mf\"Processing: {band}\"\u001b[0m\u001b[0;34m\u001b[0m\u001b[0;34m\u001b[0m\u001b[0m\n",
      "\u001b[0;31mNameError\u001b[0m: name 'bands' is not defined"
     ]
    }
   ],
   "source": [
    "for band in bands:\n",
    "    estimate_yield_debug.value = f\"Processing: {band}\""
   ]
  },
  {
   "cell_type": "code",
   "execution_count": 28,
   "id": "228844da-876f-4be3-b97f-50cc08d16eaf",
   "metadata": {},
   "outputs": [
    {
     "ename": "AttributeError",
     "evalue": "'NoneType' object has no attribute 'year'",
     "output_type": "error",
     "traceback": [
      "\u001b[0;31m---------------------------------------------------------------------------\u001b[0m",
      "\u001b[0;31mAttributeError\u001b[0m                            Traceback (most recent call last)",
      "\u001b[0;32m<ipython-input-28-13ce9a734044>\u001b[0m in \u001b[0;36m<module>\u001b[0;34m\u001b[0m\n\u001b[1;32m      1\u001b[0m \u001b[0;31m# read infro from date picker\u001b[0m\u001b[0;34m\u001b[0m\u001b[0;34m\u001b[0m\u001b[0;34m\u001b[0m\u001b[0m\n\u001b[0;32m----> 2\u001b[0;31m \u001b[0myear\u001b[0m  \u001b[0;34m=\u001b[0m \u001b[0mdateBox\u001b[0m\u001b[0;34m.\u001b[0m\u001b[0mvalue\u001b[0m\u001b[0;34m.\u001b[0m\u001b[0myear\u001b[0m\u001b[0;34m\u001b[0m\u001b[0;34m\u001b[0m\u001b[0m\n\u001b[0m\u001b[1;32m      3\u001b[0m \u001b[0mmonth\u001b[0m \u001b[0;34m=\u001b[0m \u001b[0mdateBox\u001b[0m\u001b[0;34m.\u001b[0m\u001b[0mvalue\u001b[0m\u001b[0;34m.\u001b[0m\u001b[0mmonth\u001b[0m\u001b[0;34m\u001b[0m\u001b[0;34m\u001b[0m\u001b[0m\n\u001b[1;32m      4\u001b[0m \u001b[0mday\u001b[0m   \u001b[0;34m=\u001b[0m \u001b[0mdateBox\u001b[0m\u001b[0;34m.\u001b[0m\u001b[0mvalue\u001b[0m\u001b[0;34m.\u001b[0m\u001b[0mday\u001b[0m\u001b[0;34m\u001b[0m\u001b[0;34m\u001b[0m\u001b[0m\n",
      "\u001b[0;31mAttributeError\u001b[0m: 'NoneType' object has no attribute 'year'"
     ]
    }
   ],
   "source": [
    "# read infro from date picker\n",
    "year  = dateBox.value.year\n",
    "month = dateBox.value.month\n",
    "day   = dateBox.value.day"
   ]
  },
  {
   "cell_type": "code",
   "execution_count": 32,
   "id": "f961f5ea-fdbc-4796-a237-00f778c0de1d",
   "metadata": {},
   "outputs": [
    {
     "ename": "NameError",
     "evalue": "name 'mapWidget' is not defined",
     "output_type": "error",
     "traceback": [
      "\u001b[0;31m---------------------------------------------------------------------------\u001b[0m",
      "\u001b[0;31mNameError\u001b[0m                                 Traceback (most recent call last)",
      "\u001b[0;32m<ipython-input-32-034b810fa6f1>\u001b[0m in \u001b[0;36m<module>\u001b[0;34m\u001b[0m\n\u001b[1;32m      1\u001b[0m \u001b[0mmap1\u001b[0m \u001b[0;34m=\u001b[0m \u001b[0mgeemap\u001b[0m\u001b[0;34m.\u001b[0m\u001b[0mMap\u001b[0m\u001b[0;34m(\u001b[0m\u001b[0mcenter\u001b[0m\u001b[0;34m=\u001b[0m\u001b[0;34m[\u001b[0m\u001b[0;36m45\u001b[0m\u001b[0;34m,\u001b[0m \u001b[0;36m10\u001b[0m\u001b[0;34m]\u001b[0m\u001b[0;34m,\u001b[0m \u001b[0mzoom\u001b[0m\u001b[0;34m=\u001b[0m\u001b[0;36m7\u001b[0m\u001b[0;34m)\u001b[0m\u001b[0;34m\u001b[0m\u001b[0;34m\u001b[0m\u001b[0m\n\u001b[1;32m      2\u001b[0m \u001b[0mmap1\u001b[0m\u001b[0;34m.\u001b[0m\u001b[0madd_basemap\u001b[0m\u001b[0;34m(\u001b[0m\u001b[0;34m'Google Satellite Hybrid'\u001b[0m\u001b[0;34m)\u001b[0m\u001b[0;34m\u001b[0m\u001b[0;34m\u001b[0m\u001b[0m\n\u001b[0;32m----> 3\u001b[0;31m \u001b[0;32mwith\u001b[0m \u001b[0mmapWidget\u001b[0m\u001b[0;34m:\u001b[0m\u001b[0;34m\u001b[0m\u001b[0;34m\u001b[0m\u001b[0m\n\u001b[0m\u001b[1;32m      4\u001b[0m     \u001b[0mdisplay\u001b[0m\u001b[0;34m(\u001b[0m\u001b[0mmap1\u001b[0m\u001b[0;34m)\u001b[0m\u001b[0;34m\u001b[0m\u001b[0;34m\u001b[0m\u001b[0m\n",
      "\u001b[0;31mNameError\u001b[0m: name 'mapWidget' is not defined"
     ]
    }
   ],
   "source": [
    "map1 = geemap.Map(center=[45, 10], zoom=7)\n",
    "map1.add_basemap('Google Satellite Hybrid')\n",
    "with mapWidget:\n",
    "    display(map1)"
   ]
  },
  {
   "cell_type": "code",
   "execution_count": null,
   "id": "71cc4f46-5f83-4004-8923-ed772ee9b7a1",
   "metadata": {},
   "outputs": [],
   "source": [
    "def getStatistics(change):\n",
    "      \"\"\"\n",
    "      some code\n",
    "      \"\"\"    \n",
    "getROI.on_click(getStatistics)"
   ]
  },
  {
   "cell_type": "code",
   "execution_count": null,
   "id": "3115feaf-57fa-4670-a26c-4e5a18bed272",
   "metadata": {},
   "outputs": [],
   "source": [
    "def plotResult(prediction):\n",
    "    \"\"\"\n",
    "    Code to visualize the prediction in the form of Matplotlib image.\n",
    "    \"\"\"\n",
    "\n",
    "    \n",
    "    #display output\n",
    "    plt.show()#Visualize the prediction\n",
    "with estimate_yield_plot:\n",
    "      plotResult(prediction)"
   ]
  },
  {
   "cell_type": "code",
   "execution_count": 33,
   "id": "ce3f1f02-ea1e-487a-a6f0-a3c24622c8d6",
   "metadata": {},
   "outputs": [
    {
     "ename": "NameError",
     "evalue": "name 'mapWidget' is not defined",
     "output_type": "error",
     "traceback": [
      "\u001b[0;31m---------------------------------------------------------------------------\u001b[0m",
      "\u001b[0;31mNameError\u001b[0m                                 Traceback (most recent call last)",
      "\u001b[0;32m<ipython-input-33-18cda0c99a47>\u001b[0m in \u001b[0;36m<module>\u001b[0;34m\u001b[0m\n\u001b[1;32m      1\u001b[0m \u001b[0;31m# final layout\u001b[0m\u001b[0;34m\u001b[0m\u001b[0;34m\u001b[0m\u001b[0;34m\u001b[0m\u001b[0m\n\u001b[1;32m      2\u001b[0m \u001b[0;32mfrom\u001b[0m \u001b[0mipywidgets\u001b[0m \u001b[0;32mimport\u001b[0m \u001b[0mAppLayout\u001b[0m\u001b[0;31m#Arrange the layout\u001b[0m\u001b[0;34m\u001b[0m\u001b[0;34m\u001b[0m\u001b[0m\n\u001b[0;32m----> 3\u001b[0;31m \u001b[0mverticalBox\u001b[0m \u001b[0;34m=\u001b[0m \u001b[0mmapWidget\u001b[0m\u001b[0;34m\u001b[0m\u001b[0;34m\u001b[0m\u001b[0m\n\u001b[0m\u001b[1;32m      4\u001b[0m \u001b[0mvBox1\u001b[0m \u001b[0;34m=\u001b[0m \u001b[0mwidgets\u001b[0m\u001b[0;34m.\u001b[0m\u001b[0mVBox\u001b[0m\u001b[0;34m(\u001b[0m\u001b[0;34m[\u001b[0m\u001b[0mstep1\u001b[0m\u001b[0;34m,\u001b[0m \u001b[0mdateBox\u001b[0m\u001b[0;34m,\u001b[0m\u001b[0mvBox\u001b[0m\u001b[0;34m]\u001b[0m\u001b[0;34m)\u001b[0m\u001b[0;34m\u001b[0m\u001b[0;34m\u001b[0m\u001b[0m\n\u001b[1;32m      5\u001b[0m vBox2 = widgets.VBox([step2, getROI,\n",
      "\u001b[0;31mNameError\u001b[0m: name 'mapWidget' is not defined"
     ]
    }
   ],
   "source": [
    "# final layout\n",
    "from ipywidgets import AppLayout#Arrange the layout\n",
    "verticalBox = mapWidget\n",
    "vBox1 = widgets.VBox([step1, dateBox,vBox])\n",
    "vBox2 = widgets.VBox([step2, getROI,\n",
    "                      step3,loadModel_Btn,                            step4,estimate_yield_Btn,progressBar,estimate_yield_debug,yieldOutput,\n",
    "                      estimate_yield_Out,estimate_yield_plot])\n",
    "\n",
    "AppLayout(header=None,\n",
    "          left_sidebar=vBox1,\n",
    "          right_sidebar=vBox2,\n",
    "          footer=None,\n",
    "          height=\"70%\", width=\"150%\")"
   ]
  },
  {
   "cell_type": "code",
   "execution_count": null,
   "id": "7c8e63c6-5b7d-4b78-8b51-c5fd6be460cb",
   "metadata": {},
   "outputs": [],
   "source": []
  }
 ],
 "metadata": {
  "kernelspec": {
   "display_name": "Py-GIS",
   "language": "python",
   "name": "pygis_env"
  },
  "language_info": {
   "codemirror_mode": {
    "name": "ipython",
    "version": 3
   },
   "file_extension": ".py",
   "mimetype": "text/x-python",
   "name": "python",
   "nbconvert_exporter": "python",
   "pygments_lexer": "ipython3",
   "version": "3.8.0"
  }
 },
 "nbformat": 4,
 "nbformat_minor": 5
}
